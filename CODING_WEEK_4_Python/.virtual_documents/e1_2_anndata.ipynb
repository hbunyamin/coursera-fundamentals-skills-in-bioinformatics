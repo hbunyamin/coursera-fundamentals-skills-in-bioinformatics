





# importing anndata
import anndata as ad

# importing numpy and pandas as well
import numpy as np
import pandas as pd





# importing scRNA-seq data from a .h5ad file
scdr = ad.read_h5ad('scdr.h5ad')
scdr








# matrix containing the gene expression values
scdr.X





# first 10 highest expression values. 
np.flip(np.sort(scdr.X.data))[range(10)]








# obs data frame
scdr.obs














# selecting only Naive T-cells
ids = scdr.obs['cell.type'] == 'Naive'
scdr = scdr[ids, :]
scdr





# how many rows on obs are left now?
scdr.obs








# summing over the first axis / dimension
num_reads = scdr.X.sum(axis=0)
num_reads





# creating the vars data frame
scdr.var = pd.DataFrame({'num_reads':np.array(num_reads).flatten()}, index=scdr.var_names)
scdr.var





# showing scdr content
scdr











# let's import the os module for managing files and directories
import os

# creating a directory for storing the new data
if not os.path.exists('output_data'): 
    os.makedirs('output_data')

# writing h5ad objects
scdr.write_h5ad('output_data/scdr_naive_cells.h5ad')

# check the content of the directory
os.listdir('output_data')





# using the write_csv function:
scdr.write_csvs('output_data/csvs', skip_data=True)

# listing all written files
os.listdir('output_data/csvs')






