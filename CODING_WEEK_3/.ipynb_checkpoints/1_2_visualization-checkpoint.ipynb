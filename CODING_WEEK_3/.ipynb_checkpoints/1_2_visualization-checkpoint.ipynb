{
 "cells": [
  {
   "cell_type": "markdown",
   "id": "237799a1-7dc1-4b5f-9930-c2dc86404d4b",
   "metadata": {},
   "source": [
    "## Visualization in Python\n",
    "\n",
    "### Coding lecture"
   ]
  },
  {
   "cell_type": "markdown",
   "id": "c395b493-ee75-4e3f-b4ed-5ba548dc67b5",
   "metadata": {
    "tags": []
   },
   "source": [
    "#### The importance of visualization\n",
    "\n",
    "When using the pandas data frame, we saw that boxplots are much more informative in describing distributions than a bunch of statistics provided as simple text. This is a very general rule: whenever you must present data, a faithful, clear, captivating plot is always more informative than a numerical table.\n",
    "\n",
    "Several options are available in Python for creating effective visualizations. One of the most widely used library is *matplotlib*. The graphical capabilities of pandas are largely based on this library. A relevant alternative to matplotlib is *seaborn*. Today we will learn how create scatterplots, boxplots and barplots in python, using either matplotlib, seaborn, and pandas as well. Many other figures can be created using these libraries: explore the [matplotlib](https://matplotlib.org/stable/index.html), [seaborn](https://seaborn.pydata.org/index.html) and [pandas](https://pandas.pydata.org/docs/)online documentation for deepening your knowledge!"
   ]
  },
  {
   "cell_type": "markdown",
   "id": "cc05e14c-1ff9-487c-b733-eba129226bca",
   "metadata": {},
   "source": [
    "#### Data from space\n",
    "\n",
    "For today lesson we will again analyze the data seen in module 3.3. This is a fictitious experiments, where the dfferent dietary and life style factors are measured on 1500 subjects. The measurement include sugar consumption level (total amount of sugar you consume over the day), amount of daily physical exercise, LDL cholesterol level, and whether you LDLD colestherol is high (>120) or not.The catch is that half of the samples were taken on Earth, while the other half... on Venus! \n",
    "\n",
    "Let's load the data as we saved then at the end of lesson 3.3.2."
   ]
  },
  {
   "cell_type": "code",
   "execution_count": 18,
   "id": "51cdb87d-53a8-49d3-ae42-fd48552544f8",
   "metadata": {},
   "outputs": [
    {
     "data": {
      "text/html": [
       "<div>\n",
       "<style scoped>\n",
       "    .dataframe tbody tr th:only-of-type {\n",
       "        vertical-align: middle;\n",
       "    }\n",
       "\n",
       "    .dataframe tbody tr th {\n",
       "        vertical-align: top;\n",
       "    }\n",
       "\n",
       "    .dataframe thead th {\n",
       "        text-align: right;\n",
       "    }\n",
       "</style>\n",
       "<table border=\"1\" class=\"dataframe\">\n",
       "  <thead>\n",
       "    <tr style=\"text-align: right;\">\n",
       "      <th></th>\n",
       "      <th>LDL_levels</th>\n",
       "      <th>Planet</th>\n",
       "      <th>Exercise</th>\n",
       "      <th>Sugar_consumption</th>\n",
       "    </tr>\n",
       "    <tr>\n",
       "      <th>Individual</th>\n",
       "      <th></th>\n",
       "      <th></th>\n",
       "      <th></th>\n",
       "      <th></th>\n",
       "    </tr>\n",
       "  </thead>\n",
       "  <tbody>\n",
       "    <tr>\n",
       "      <th>Patient_1</th>\n",
       "      <td>117.084348</td>\n",
       "      <td>Earth</td>\n",
       "      <td>35.225465</td>\n",
       "      <td>33.074228</td>\n",
       "    </tr>\n",
       "    <tr>\n",
       "      <th>Patient_2</th>\n",
       "      <td>106.295820</td>\n",
       "      <td>Earth</td>\n",
       "      <td>86.118299</td>\n",
       "      <td>35.766400</td>\n",
       "    </tr>\n",
       "    <tr>\n",
       "      <th>Patient_3</th>\n",
       "      <td>122.064582</td>\n",
       "      <td>Earth</td>\n",
       "      <td>75.440539</td>\n",
       "      <td>30.140532</td>\n",
       "    </tr>\n",
       "    <tr>\n",
       "      <th>Patient_4</th>\n",
       "      <td>126.171853</td>\n",
       "      <td>Earth</td>\n",
       "      <td>39.336172</td>\n",
       "      <td>30.966869</td>\n",
       "    </tr>\n",
       "    <tr>\n",
       "      <th>Patient_5</th>\n",
       "      <td>132.882935</td>\n",
       "      <td>Earth</td>\n",
       "      <td>23.614529</td>\n",
       "      <td>39.043881</td>\n",
       "    </tr>\n",
       "    <tr>\n",
       "      <th>...</th>\n",
       "      <td>...</td>\n",
       "      <td>...</td>\n",
       "      <td>...</td>\n",
       "      <td>...</td>\n",
       "    </tr>\n",
       "    <tr>\n",
       "      <th>Patient_1496</th>\n",
       "      <td>90.586941</td>\n",
       "      <td>Venus</td>\n",
       "      <td>70.696798</td>\n",
       "      <td>25.965687</td>\n",
       "    </tr>\n",
       "    <tr>\n",
       "      <th>Patient_1497</th>\n",
       "      <td>67.401280</td>\n",
       "      <td>Venus</td>\n",
       "      <td>97.889474</td>\n",
       "      <td>37.641569</td>\n",
       "    </tr>\n",
       "    <tr>\n",
       "      <th>Patient_1498</th>\n",
       "      <td>120.891409</td>\n",
       "      <td>Venus</td>\n",
       "      <td>20.061231</td>\n",
       "      <td>43.162917</td>\n",
       "    </tr>\n",
       "    <tr>\n",
       "      <th>Patient_1499</th>\n",
       "      <td>77.996389</td>\n",
       "      <td>Venus</td>\n",
       "      <td>75.662184</td>\n",
       "      <td>31.704016</td>\n",
       "    </tr>\n",
       "    <tr>\n",
       "      <th>Patient_1500</th>\n",
       "      <td>94.978406</td>\n",
       "      <td>Venus</td>\n",
       "      <td>35.330030</td>\n",
       "      <td>35.495333</td>\n",
       "    </tr>\n",
       "  </tbody>\n",
       "</table>\n",
       "<p>1500 rows × 4 columns</p>\n",
       "</div>"
      ],
      "text/plain": [
       "              LDL_levels Planet   Exercise  Sugar_consumption\n",
       "Individual                                                   \n",
       "Patient_1     117.084348  Earth  35.225465          33.074228\n",
       "Patient_2     106.295820  Earth  86.118299          35.766400\n",
       "Patient_3     122.064582  Earth  75.440539          30.140532\n",
       "Patient_4     126.171853  Earth  39.336172          30.966869\n",
       "Patient_5     132.882935  Earth  23.614529          39.043881\n",
       "...                  ...    ...        ...                ...\n",
       "Patient_1496   90.586941  Venus  70.696798          25.965687\n",
       "Patient_1497   67.401280  Venus  97.889474          37.641569\n",
       "Patient_1498  120.891409  Venus  20.061231          43.162917\n",
       "Patient_1499   77.996389  Venus  75.662184          31.704016\n",
       "Patient_1500   94.978406  Venus  35.330030          35.495333\n",
       "\n",
       "[1500 rows x 4 columns]"
      ]
     },
     "execution_count": 18,
     "metadata": {},
     "output_type": "execute_result"
    }
   ],
   "source": [
    "# import pandas\n",
    "import pandas as pd\n",
    "\n",
    "# reading our data frame with read_csvimport numpy as np\n",
    "df = pd.read_csv('DATA_FSB_SET_3_mod.csv', index_col = 'Individual')\n",
    "\n",
    "# showing the data frame\n",
    "df"
   ]
  },
  {
   "cell_type": "code",
   "execution_count": 19,
   "id": "52e63af3-efd1-4f67-ba18-08f3570a2b3a",
   "metadata": {},
   "outputs": [
    {
     "data": {
      "text/html": [
       "<div>\n",
       "<style scoped>\n",
       "    .dataframe tbody tr th:only-of-type {\n",
       "        vertical-align: middle;\n",
       "    }\n",
       "\n",
       "    .dataframe tbody tr th {\n",
       "        vertical-align: top;\n",
       "    }\n",
       "\n",
       "    .dataframe thead th {\n",
       "        text-align: right;\n",
       "    }\n",
       "</style>\n",
       "<table border=\"1\" class=\"dataframe\">\n",
       "  <thead>\n",
       "    <tr style=\"text-align: right;\">\n",
       "      <th></th>\n",
       "      <th>LDL_levels</th>\n",
       "      <th>Planet</th>\n",
       "      <th>Exercise</th>\n",
       "      <th>Sugar_consumption</th>\n",
       "      <th>High_LDL_levels</th>\n",
       "    </tr>\n",
       "    <tr>\n",
       "      <th>Individual</th>\n",
       "      <th></th>\n",
       "      <th></th>\n",
       "      <th></th>\n",
       "      <th></th>\n",
       "      <th></th>\n",
       "    </tr>\n",
       "  </thead>\n",
       "  <tbody>\n",
       "    <tr>\n",
       "      <th>Patient_1</th>\n",
       "      <td>117.084348</td>\n",
       "      <td>Earth</td>\n",
       "      <td>35.225465</td>\n",
       "      <td>33.074228</td>\n",
       "      <td>False</td>\n",
       "    </tr>\n",
       "    <tr>\n",
       "      <th>Patient_2</th>\n",
       "      <td>106.295820</td>\n",
       "      <td>Earth</td>\n",
       "      <td>86.118299</td>\n",
       "      <td>35.766400</td>\n",
       "      <td>False</td>\n",
       "    </tr>\n",
       "    <tr>\n",
       "      <th>Patient_3</th>\n",
       "      <td>122.064582</td>\n",
       "      <td>Earth</td>\n",
       "      <td>75.440539</td>\n",
       "      <td>30.140532</td>\n",
       "      <td>True</td>\n",
       "    </tr>\n",
       "    <tr>\n",
       "      <th>Patient_4</th>\n",
       "      <td>126.171853</td>\n",
       "      <td>Earth</td>\n",
       "      <td>39.336172</td>\n",
       "      <td>30.966869</td>\n",
       "      <td>True</td>\n",
       "    </tr>\n",
       "    <tr>\n",
       "      <th>Patient_5</th>\n",
       "      <td>132.882935</td>\n",
       "      <td>Earth</td>\n",
       "      <td>23.614529</td>\n",
       "      <td>39.043881</td>\n",
       "      <td>True</td>\n",
       "    </tr>\n",
       "    <tr>\n",
       "      <th>...</th>\n",
       "      <td>...</td>\n",
       "      <td>...</td>\n",
       "      <td>...</td>\n",
       "      <td>...</td>\n",
       "      <td>...</td>\n",
       "    </tr>\n",
       "    <tr>\n",
       "      <th>Patient_1496</th>\n",
       "      <td>90.586941</td>\n",
       "      <td>Venus</td>\n",
       "      <td>70.696798</td>\n",
       "      <td>25.965687</td>\n",
       "      <td>False</td>\n",
       "    </tr>\n",
       "    <tr>\n",
       "      <th>Patient_1497</th>\n",
       "      <td>67.401280</td>\n",
       "      <td>Venus</td>\n",
       "      <td>97.889474</td>\n",
       "      <td>37.641569</td>\n",
       "      <td>False</td>\n",
       "    </tr>\n",
       "    <tr>\n",
       "      <th>Patient_1498</th>\n",
       "      <td>120.891409</td>\n",
       "      <td>Venus</td>\n",
       "      <td>20.061231</td>\n",
       "      <td>43.162917</td>\n",
       "      <td>True</td>\n",
       "    </tr>\n",
       "    <tr>\n",
       "      <th>Patient_1499</th>\n",
       "      <td>77.996389</td>\n",
       "      <td>Venus</td>\n",
       "      <td>75.662184</td>\n",
       "      <td>31.704016</td>\n",
       "      <td>False</td>\n",
       "    </tr>\n",
       "    <tr>\n",
       "      <th>Patient_1500</th>\n",
       "      <td>94.978406</td>\n",
       "      <td>Venus</td>\n",
       "      <td>35.330030</td>\n",
       "      <td>35.495333</td>\n",
       "      <td>False</td>\n",
       "    </tr>\n",
       "  </tbody>\n",
       "</table>\n",
       "<p>1500 rows × 5 columns</p>\n",
       "</div>"
      ],
      "text/plain": [
       "              LDL_levels Planet   Exercise  Sugar_consumption  High_LDL_levels\n",
       "Individual                                                                    \n",
       "Patient_1     117.084348  Earth  35.225465          33.074228            False\n",
       "Patient_2     106.295820  Earth  86.118299          35.766400            False\n",
       "Patient_3     122.064582  Earth  75.440539          30.140532             True\n",
       "Patient_4     126.171853  Earth  39.336172          30.966869             True\n",
       "Patient_5     132.882935  Earth  23.614529          39.043881             True\n",
       "...                  ...    ...        ...                ...              ...\n",
       "Patient_1496   90.586941  Venus  70.696798          25.965687            False\n",
       "Patient_1497   67.401280  Venus  97.889474          37.641569            False\n",
       "Patient_1498  120.891409  Venus  20.061231          43.162917             True\n",
       "Patient_1499   77.996389  Venus  75.662184          31.704016            False\n",
       "Patient_1500   94.978406  Venus  35.330030          35.495333            False\n",
       "\n",
       "[1500 rows x 5 columns]"
      ]
     },
     "execution_count": 19,
     "metadata": {},
     "output_type": "execute_result"
    }
   ],
   "source": [
    "# Let us remember how to create the column of High_LDL_levels\n",
    "high_LDL = df['LDL_levels'] > 120\n",
    "high_LDL\n",
    "df['High_LDL_levels'] = high_LDL\n",
    "df"
   ]
  },
  {
   "cell_type": "markdown",
   "id": "b5212582-7ee4-4677-9359-6172fe128748",
   "metadata": {},
   "source": [
    "From lesson 3.3.2 we already know that `Exercise` and `Sugar_consumption` contain negative values that are not physically possible. We will just filter out the respective rows."
   ]
  },
  {
   "cell_type": "code",
   "execution_count": 20,
   "id": "2994ef32-e15b-453b-8d3b-02f046dd0a01",
   "metadata": {},
   "outputs": [],
   "source": [
    "# eliminating subjects with impossible values\n",
    "df = df[(df.Sugar_consumption >= 0) & (df.Exercise >= 0)]"
   ]
  },
  {
   "cell_type": "markdown",
   "id": "79c07326-4c5b-4646-8378-7331f3970e42",
   "metadata": {},
   "source": [
    "We are ready! Let's explore the relationships among these quantities!"
   ]
  },
  {
   "cell_type": "markdown",
   "id": "6aebb25a-cd64-4c26-aded-9aee91465ec8",
   "metadata": {},
   "source": [
    "#### Scatterplots\n",
    "\n",
    "Let's start by visualizing the relationship between sugar consumption and exercise level. Since both values are continuous, we can use a scatterplot."
   ]
  },
  {
   "cell_type": "code",
   "execution_count": 21,
   "id": "d22d84cb-5f0c-405d-a4da-6d1ba4607776",
   "metadata": {},
   "outputs": [
    {
     "data": {
      "image/png": "[encoded data removed]",
      "text/plain": [
       "<Figure size 432x288 with 1 Axes>"
      ]
     },
     "metadata": {
      "needs_background": "light"
     },
     "output_type": "display_data"
    }
   ],
   "source": [
    "# importing matplotlib\n",
    "import matplotlib.pyplot as plt\n",
    "\n",
    "# creating an empty figure\n",
    "fig, ax = plt.subplots()\n",
    "\n",
    "# specifying the characteristics of the scatterplot\n",
    "ax.scatter(x = df.Exercise, y = df.Sugar_consumption, alpha=0.5)\n",
    "\n",
    "# curating important details: labels, grid\n",
    "ax.set_xlabel('Level of exercise')\n",
    "ax.set_ylabel('Sugar consumption')\n",
    "ax.set_title('Relationship between level of exercise and sugar consumption')\n",
    "ax.grid(True)"
   ]
  },
  {
   "cell_type": "markdown",
   "id": "2d3d21c0-a668-488c-892e-17ce8d561f50",
   "metadata": {},
   "source": [
    "There are some important concepts to underline here:\n",
    "- the `matplotlit.pyplot` subpackage allows to specify plots with a Matlab-like API\n",
    "- the `plt.subplots()` command produces two interconnected objects: `fig` and `ax`. The `ax` object is the plot we want to populate with our data. The `fig` object is akin to an empty canvas that can host one or more plots. In our case, 'fig' is hosting only the `ax` plot\n",
    "- `ax.scatter` specifies that we want to create a scatterplot, with `df.Exercise` on the x-axis and `df.Sugar_consumption` on the y-axis\n",
    "- the remaining command set important details of the plot (grid, labels)"
   ]
  },
  {
   "cell_type": "markdown",
   "id": "54883df2-9e12-4806-8e51-f1f1c473cba5",
   "metadata": {},
   "source": [
    "There seems to be an inverse relationship between the amount of sugar consumed every day and the level of daily exercise. Is this relatioship influenced by the level of LDL cholesterol?"
   ]
  },
  {
   "cell_type": "code",
   "execution_count": 22,
   "id": "4327c15e-1640-49a4-9940-fe7d3a26e40d",
   "metadata": {},
   "outputs": [
    {
     "data": {
      "image/png": "[encoded data removed]",
      "text/plain": [
       "<Figure size 432x288 with 2 Axes>"
      ]
     },
     "execution_count": 22,
     "metadata": {},
     "output_type": "execute_result"
    }
   ],
   "source": [
    "# updating the scatterplot\n",
    "points = ax.scatter(x = df.Exercise, y = df.Sugar_consumption, alpha = 0.5, c = df.LDL_levels)\n",
    "\n",
    "# adding a color bar\n",
    "colbar = fig.colorbar(points)\n",
    "colbar.set_label('LDL level')\n",
    "\n",
    "# plotting the figure\n",
    "fig"
   ]
  },
  {
   "cell_type": "markdown",
   "id": "0c2df076-09c5-4edc-93a8-807f217f1d9b",
   "metadata": {},
   "source": [
    "Let's dissect these last lines of code. First we updated the scatterplot by linking the color of the points with LDL levels. Notive that this time we capture the `point` object out of the `ax.scatter` method. We need this object for properly setting the color bar that will lay next to the plot. Finally, we plot the figure with the last istruction, `fig`.\n",
    "\n",
    "It seems that also the LDL level is lower in people exercising more. Go sport!"
   ]
  },
  {
   "cell_type": "markdown",
   "id": "e28c9b76-d763-4f80-beae-6c60b73852a6",
   "metadata": {},
   "source": [
    "How can we create a similar plot in seaborn? Let's see the code."
   ]
  },
  {
   "cell_type": "code",
   "execution_count": 23,
   "id": "abcf879f-8873-423d-8291-c21c300f08ba",
   "metadata": {},
   "outputs": [
    {
     "data": {
      "image/png": "[encoded data removed]",
      "text/plain": [
       "<Figure size 432x288 with 1 Axes>"
      ]
     },
     "metadata": {
      "needs_background": "light"
     },
     "output_type": "display_data"
    }
   ],
   "source": [
    "# let's import seaborn\n",
    "import seaborn as sns\n",
    "\n",
    "# creating the scatterplt\n",
    "sns.scatterplot(x = 'Exercise', y = 'Sugar_consumption', alpha = 0.5, hue = 'LDL_levels', data = df)\n",
    "\n",
    "# specifying the details of the plot with pyplot function: title, labels.\n",
    "plt.title('Relationship between level of exercise and sugar consumption')\n",
    "plt.legend(title = 'LDL levels')\n",
    "plt.xlabel('Level of exercise')\n",
    "plt.ylabel('Level of sugar consumption')\n",
    "plt.show()"
   ]
  },
  {
   "cell_type": "markdown",
   "id": "7487071e-8905-4ee5-b9dc-40b57247e15a",
   "metadata": {},
   "source": [
    "Creating the scatterplot seems to have required less code with seaborn. This is because the `sns.scatterplot` function encapsulates and hides commands (like the creation of the figure and axis) that otherwise we should write ourselves. One important thing: after creating the scatterplot, we use functions from the pyplot subpackage for setting title and labels. How is this possible?\n",
    "- The seaborn package is based on matplotlib. This means that each time we create a plot with seaborn, we are actually creating a matplotlib figure. Consequently, pyplot functions work perfectly fine on seaborn plots\n",
    "- The pyplot subpackage \"focuses\" on a figure at the time, namely the \"current\" figure. When we created the scatterplot with the `sns.scatterplot` function, this plot became the current one. After that moment, and until we create a new figure, all pyplot functions will operate on the current scatterplot."
   ]
  },
  {
   "cell_type": "markdown",
   "id": "b2e71db0-04f8-4edb-ad19-aa34a3b66ce7",
   "metadata": {},
   "source": [
    "#### Boxplots"
   ]
  },
  {
   "cell_type": "markdown",
   "id": "4896ff48-ade4-413f-93e9-0a92cc673204",
   "metadata": {},
   "source": [
    "We have already seen boxplots in our lesson on pandas. Can we use seaborn to produce a more captivating version? Let's see!"
   ]
  },
  {
   "cell_type": "code",
   "execution_count": 24,
   "id": "2b5951ad-3bde-4b5b-b5b2-fa2f6b4f2ca1",
   "metadata": {},
   "outputs": [
    {
     "data": {
      "image/png": "[encoded data removed]",
      "text/plain": [
       "<Figure size 432x288 with 1 Axes>"
      ]
     },
     "metadata": {
      "needs_background": "light"
     },
     "output_type": "display_data"
    }
   ],
   "source": [
    "# visualizing sugar consumption on different planets and accoring to different LDL colestherol levels\n",
    "ax = sns.boxplot(x = 'Planet', \n",
    "            y = 'Sugar_consumption',\n",
    "            hue = 'High_LDL_levels', \n",
    "            data = df)"
   ]
  },
  {
   "cell_type": "markdown",
   "id": "b0b569c6-990c-4342-9818-afd35993bdad",
   "metadata": {},
   "source": [
    "While the figure is already clear, we can improve it by tuning some of its esthetics"
   ]
  },
  {
   "cell_type": "code",
   "execution_count": 25,
   "id": "01e306c3-7d82-4ae4-a309-83b22b27ebea",
   "metadata": {},
   "outputs": [
    {
     "data": {
      "image/png": "[encoded data removed]",
      "text/plain": [
       "<Figure size 432x288 with 1 Axes>"
      ]
     },
     "metadata": {
      "needs_background": "light"
     },
     "output_type": "display_data"
    }
   ],
   "source": [
    "# same as before, we cosmetic modifications\n",
    "ax = sns.boxplot(x = 'Planet', \n",
    "            y = 'Sugar_consumption',\n",
    "            hue = 'High_LDL_levels', \n",
    "            palette = ('lightgreen', 'magenta'),\n",
    "            showfliers = False,\n",
    "            width = 0.5,\n",
    "            data = df)\n",
    "\n",
    "# specifying further details\n",
    "plt.legend(title = 'High LDL level', loc='upper center')\n",
    "plt.xlabel('Planet')\n",
    "plt.ylabel('Level of sugar consumption')\n",
    "plt.show()"
   ]
  },
  {
   "cell_type": "markdown",
   "id": "5bf5dda3-8062-4a81-8acc-ac49c85e98c4",
   "metadata": {},
   "source": [
    "The plot now highlights a higher consumption of sugar for subjects with high LDL colestherol level, while no difference seems to be present across planets. Care should be exercise when reporting this plot: it should be made clear that outliers have been removed for sake of clarity."
   ]
  },
  {
   "cell_type": "markdown",
   "id": "ec98c929-7a3f-4434-b058-5c98394a87df",
   "metadata": {},
   "source": [
    "#### Barplots"
   ]
  },
  {
   "cell_type": "markdown",
   "id": "8cce6722-2093-4c5e-83cd-9df0d919c5e2",
   "metadata": {},
   "source": [
    "Finally, we want to represent the relationship between `Planet` and `High_LDL_levels` through a graph. Neither variable is numerical, and thus we will use a bar plot for summarizing how many patients fall in the different categories defined by considering both variables. First things first, let's create a contingency table representing the relationship between these two variables!"
   ]
  },
  {
   "cell_type": "code",
   "execution_count": 26,
   "id": "16410c7a-c3ab-4a67-a611-816cb4c48a03",
   "metadata": {},
   "outputs": [
    {
     "data": {
      "text/html": [
       "<div>\n",
       "<style scoped>\n",
       "    .dataframe tbody tr th:only-of-type {\n",
       "        vertical-align: middle;\n",
       "    }\n",
       "\n",
       "    .dataframe tbody tr th {\n",
       "        vertical-align: top;\n",
       "    }\n",
       "\n",
       "    .dataframe thead th {\n",
       "        text-align: right;\n",
       "    }\n",
       "</style>\n",
       "<table border=\"1\" class=\"dataframe\">\n",
       "  <thead>\n",
       "    <tr style=\"text-align: right;\">\n",
       "      <th>High_LDL_levels</th>\n",
       "      <th>False</th>\n",
       "      <th>True</th>\n",
       "    </tr>\n",
       "    <tr>\n",
       "      <th>Planet</th>\n",
       "      <th></th>\n",
       "      <th></th>\n",
       "    </tr>\n",
       "  </thead>\n",
       "  <tbody>\n",
       "    <tr>\n",
       "      <th>Earth</th>\n",
       "      <td>415</td>\n",
       "      <td>331</td>\n",
       "    </tr>\n",
       "    <tr>\n",
       "      <th>Venus</th>\n",
       "      <td>585</td>\n",
       "      <td>123</td>\n",
       "    </tr>\n",
       "  </tbody>\n",
       "</table>\n",
       "</div>"
      ],
      "text/plain": [
       "High_LDL_levels  False  True \n",
       "Planet                       \n",
       "Earth              415    331\n",
       "Venus              585    123"
      ]
     },
     "execution_count": 26,
     "metadata": {},
     "output_type": "execute_result"
    }
   ],
   "source": [
    "# contingency table\n",
    "ct = pd.crosstab(df.Planet, df.High_LDL_levels)\n",
    "ct"
   ]
  },
  {
   "cell_type": "markdown",
   "id": "141aeb7f-3414-4bbc-a7a4-ecea359711d8",
   "metadata": {},
   "source": [
    "This table already contains all the information we need, but it is not easy to comprehend it. A barplot will make the interpretation much easier:"
   ]
  },
  {
   "cell_type": "code",
   "execution_count": 27,
   "id": "0fabc7c5-e5af-4fd0-8b60-81bb1319512c",
   "metadata": {},
   "outputs": [
    {
     "data": {
      "text/plain": [
       "Text(0, 0.5, 'Number of patients')"
      ]
     },
     "execution_count": 27,
     "metadata": {},
     "output_type": "execute_result"
    },
    {
     "data": {
      "image/png": "[encoded data removed]",
      "text/plain": [
       "<Figure size 432x288 with 1 Axes>"
      ]
     },
     "metadata": {
      "needs_background": "light"
     },
     "output_type": "display_data"
    }
   ],
   "source": [
    "# barplot functionality provided by the pandas library\n",
    "ax = ct.plot.bar()\n",
    "\n",
    "# further details tuned through pyplot function\n",
    "plt.legend(title = 'High LDL level')\n",
    "plt.ylabel('Number of patients')"
   ]
  },
  {
   "cell_type": "markdown",
   "id": "d0c61f98-30cf-4c52-8cce-6b8fdc1c0caa",
   "metadata": {},
   "source": [
    "The plot makes immediately clear that patients living on Venus usually have low levels of LDL colestherol, while almost half of the patients living on Earth have high colestherol. Time to consider an interplanetary relocation!"
   ]
  },
  {
   "cell_type": "code",
   "execution_count": null,
   "id": "edf81d30-b4b5-4ea6-846b-6361eb6f4aa5",
   "metadata": {},
   "outputs": [],
   "source": []
  }
 ],
 "metadata": {
  "kernelspec": {
   "display_name": "Python 3",
   "language": "python",
   "name": "python3"
  },
  "language_info": {
   "codemirror_mode": {
    "name": "ipython",
    "version": 3
   },
   "file_extension": ".py",
   "mimetype": "text/x-python",
   "name": "python",
   "nbconvert_exporter": "python",
   "pygments_lexer": "ipython3",
   "version": "3.8.8"
  }
 },
 "nbformat": 4,
 "nbformat_minor": 5
}
