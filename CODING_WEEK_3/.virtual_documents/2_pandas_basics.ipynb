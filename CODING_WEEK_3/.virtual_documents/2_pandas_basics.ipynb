








# importing pandas
import pandas as pd

# creating our first data frame
df = pd.DataFrame(
    data = {
    'LDL_levels':[117.0843482, 106.2958199, 122.0645822, 90.3214571, 112.4369152],
    'Planet':['Earth','Earth','Earth', 'Venus', 'Venus'],
    'Exercise':[35.22546468, 86.11829872, 75.44053885, 76.98685069, 60.21331603],
    'Sugar_consumption':[33.07422821, 35.76640029, 30.14053194, 30.92974665, 34.51534541]
    }, 
    index = ['Patient_1', 'Patient_2', 'Patient_3', 'Patient_782', 'Patient_783']
)

# visualizing the data frame
df














# reading our data frame with read_csvimport numpy as np
df = pd.read_csv('DATA_FSB_SET_3_mod.csv', index_col = 'Individual')

# showing the data frame
df





# selecting a single column
df.Planet


# selecting a single column, second method
df['Planet']





# the type of a single column...
type(df.LDL_levels)


# the actual engine hiding under the hood...
type(df.LDL_levels.values)








# subsetting the data frame with iloc
df.iloc[4:10, 1:4]








# subsetting using row and column names
rs = ['Patient_1', 'Patient_2']
cs = ['Exercise', 'Sugar_consumption']
df.loc[rs, cs]





# let's select only the rows where sugar consumption is above 200
idx = df['Sugar_consumption'] > 200
idx
df.loc[idx, ]








# alternative way to select rows based on logical values
df[idx]











# accessing a single value in a data frame
df.loc['Patient_6', 'Sugar_consumption']


# modifying a single value in a data frame
df.loc['Patient_6', 'Sugar_consumption'] = 250
df.loc['Patient_6', 'Sugar_consumption']





# recall that idx already identifies all patients with more than 200 in sugar consumption
df.loc[idx, 'Sugar_consumption'] 



# setting 200 as a limit for sugar consumption
df.loc[idx, 'Sugar_consumption'] = 200
df.loc[idx, 'Sugar_consumption'] 


# we can also set different values for each subjet
df.loc[idx, 'Sugar_consumption'] = [191, 192, 193, 194, 195, 196, 197, 198, 199, 200]
df.loc[idx, 'Sugar_consumption'] 





# high levels of LDL
high_LDL = df['LDL_levels'] > 120
high_LDL





# adding one more column
df['High_LDL_levels'] = high_LDL
df






