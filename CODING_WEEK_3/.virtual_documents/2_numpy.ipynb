








# importing the NumPy package... yes, it is that easy!
import numpy

# creating a random number
numpy.random.normal(0, 1)








# importing NumPy and giving the alias np
import numpy as np

# one more random number!
np.random.normal(0, 1)





# importing only the random module of NumPy
import numpy.random as npr

# one more random number!
npr.normal(0, 1)











# first, we will create a list
L1 = [2, 3, 5, 4]
L1


# and now, we will transform it in an array
v1 = np.array(L1)
v1


v1.shape





# let's multiply our vector by 2
v1 * 2





# what happens when we multiply L1 by 2
L1 * 2





# one more example: exponentiation
v1 ** 2


L1 ** 2








# let's create one more vector
v2 = np.array([7, 8, 10, 9])


v1


# addition
print(v1 + v2)





# subtraction
print(v1 - v2)


# multiplication
print(v1 * v2)


# division
print(v1 / v2)


# exponentiation
print(v1 ** v2)


# and of course, this operation can be combined. Here we first perform the operation in parenthesis and then the division
print((v1 + v2) / v2)





# shape of v1
v1.shape





# adding one more dimension to v1
v1.shape = (2, 2)
print(v1)





# let's make v1 a vector again
v1.shape = (4,)
print(v1)


# and let's create a new matrix, m1
m1 = v1.reshape(2,2)
print(m1)








# sorting the v1 vector
print(v1)
print('sorting...')
v1.sort()
print(v1)











# let's create a new vector with both infinite and missing values
v3 = np.array([2, np.NaN, 4, 8, np.Inf])
print(v3)





# using the mean method on v3
v3.mean()





# idenfiy the index of finite values
idx = np.isfinite(v3)
print(idx)





# computing the mean on the finite part of v3
v3[idx].mean()





# let's use the linalg module to compute m1 determinant
np.linalg.det(m1)


# and now let's compute the inverse of m1
np.linalg.inv(m1)



