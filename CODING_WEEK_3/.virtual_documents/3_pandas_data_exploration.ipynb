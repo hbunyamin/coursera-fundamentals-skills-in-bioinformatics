








# importing pandas
import pandas as pd

# reading from file
df = pd.read_csv('DATA_FSB_SET_3_mod.csv', index_col= 'Individual')

# visualizing the data frame
df








# textual description of the distributions of the continuous variables
df.describe()





# boxplots of continuous variables distributions
df.boxplot()





# boxplots only for selected variables
df.boxplot(column = ['LDL_levels', 'Exercise', 'Sugar_consumption'])





# import NumPy
import numpy as np

# replacing negative values with NaN
df.loc[df.Exercise < 0, 'Exercise'] = np.NaN
df.loc[df.Sugar_consumption < 0, 'Sugar_consumption'] = np.NaN

# visualizing boxplots again
df.boxplot(column = ['LDL_levels', 'Exercise', 'Sugar_consumption'])





# counting missing values
df.isna().sum()





# selecting only numerical variables
tmp_df = df.select_dtypes(include = 'number')
tmp_df


# computing average values only for the numerical variables
averages = tmp_df.mean()
averages





# distribution of values in the Planet variable 
df.Planet.value_counts()


# generating the new column again
high_LDL = df['LDL_levels'] > 120

df['High_LDL_levels'] = high_LDL

# distribution of values in the High_LDL_levels variable 
df.High_LDL_levels.value_counts()


# joint distribution between Planet and High_LDL_levels
pd.crosstab(df.Planet, df.High_LDL_levels)





# statistics on sugar consumption by planet
df.groupby('Planet').Sugar_consumption.describe()





df.groupby('Planet').boxplot(column = 'Sugar_consumption')












