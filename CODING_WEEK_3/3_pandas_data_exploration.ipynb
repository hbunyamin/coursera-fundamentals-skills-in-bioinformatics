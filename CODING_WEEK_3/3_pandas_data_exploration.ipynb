{
 "cells": [
  {
   "cell_type": "markdown",
   "id": "237799a1-7dc1-4b5f-9930-c2dc86404d4b",
   "metadata": {},
   "source": [
    "## The pandas package: data exploration\n",
    "\n",
    "### Coding lecture"
   ]
  },
  {
   "cell_type": "markdown",
   "id": "c395b493-ee75-4e3f-b4ed-5ba548dc67b5",
   "metadata": {
    "tags": []
   },
   "source": [
    "In the previous lesson we learned how to read a csv file and store its data in a pandas data frame. We also saw different ways to subset a data frame, modify its values, adding columns and saving the resulting data frame on file. We now want to learn more about the methods that pandas offer to explore data contained in data frames."
   ]
  },
  {
   "cell_type": "markdown",
   "id": "cc05e14c-1ff9-487c-b733-eba129226bca",
   "metadata": {},
   "source": [
    "#### Data exploration in pandas.\n",
    "\n",
    "We will start where we left in the previous lesson, by reading back the file we wrote on a csv file"
   ]
  },
  {
   "cell_type": "code",
   "execution_count": 5,
   "id": "57e2fe16-c90b-42ce-a0a6-9e8b43511d08",
   "metadata": {},
   "outputs": [
    {
     "data": {
      "text/html": [
       "<div>\n",
       "<style scoped>\n",
       "    .dataframe tbody tr th:only-of-type {\n",
       "        vertical-align: middle;\n",
       "    }\n",
       "\n",
       "    .dataframe tbody tr th {\n",
       "        vertical-align: top;\n",
       "    }\n",
       "\n",
       "    .dataframe thead th {\n",
       "        text-align: right;\n",
       "    }\n",
       "</style>\n",
       "<table border=\"1\" class=\"dataframe\">\n",
       "  <thead>\n",
       "    <tr style=\"text-align: right;\">\n",
       "      <th></th>\n",
       "      <th>LDL_levels</th>\n",
       "      <th>Planet</th>\n",
       "      <th>Exercise</th>\n",
       "      <th>Sugar_consumption</th>\n",
       "    </tr>\n",
       "    <tr>\n",
       "      <th>Individual</th>\n",
       "      <th></th>\n",
       "      <th></th>\n",
       "      <th></th>\n",
       "      <th></th>\n",
       "    </tr>\n",
       "  </thead>\n",
       "  <tbody>\n",
       "    <tr>\n",
       "      <th>Patient_1</th>\n",
       "      <td>117.084348</td>\n",
       "      <td>Earth</td>\n",
       "      <td>35.225465</td>\n",
       "      <td>33.074228</td>\n",
       "    </tr>\n",
       "    <tr>\n",
       "      <th>Patient_2</th>\n",
       "      <td>106.295820</td>\n",
       "      <td>Earth</td>\n",
       "      <td>86.118299</td>\n",
       "      <td>35.766400</td>\n",
       "    </tr>\n",
       "    <tr>\n",
       "      <th>Patient_3</th>\n",
       "      <td>122.064582</td>\n",
       "      <td>Earth</td>\n",
       "      <td>75.440539</td>\n",
       "      <td>30.140532</td>\n",
       "    </tr>\n",
       "    <tr>\n",
       "      <th>Patient_4</th>\n",
       "      <td>126.171853</td>\n",
       "      <td>Earth</td>\n",
       "      <td>39.336172</td>\n",
       "      <td>30.966869</td>\n",
       "    </tr>\n",
       "    <tr>\n",
       "      <th>Patient_5</th>\n",
       "      <td>132.882935</td>\n",
       "      <td>Earth</td>\n",
       "      <td>23.614529</td>\n",
       "      <td>39.043881</td>\n",
       "    </tr>\n",
       "    <tr>\n",
       "      <th>...</th>\n",
       "      <td>...</td>\n",
       "      <td>...</td>\n",
       "      <td>...</td>\n",
       "      <td>...</td>\n",
       "    </tr>\n",
       "    <tr>\n",
       "      <th>Patient_1496</th>\n",
       "      <td>90.586941</td>\n",
       "      <td>Venus</td>\n",
       "      <td>70.696798</td>\n",
       "      <td>25.965687</td>\n",
       "    </tr>\n",
       "    <tr>\n",
       "      <th>Patient_1497</th>\n",
       "      <td>67.401280</td>\n",
       "      <td>Venus</td>\n",
       "      <td>97.889474</td>\n",
       "      <td>37.641569</td>\n",
       "    </tr>\n",
       "    <tr>\n",
       "      <th>Patient_1498</th>\n",
       "      <td>120.891409</td>\n",
       "      <td>Venus</td>\n",
       "      <td>20.061231</td>\n",
       "      <td>43.162917</td>\n",
       "    </tr>\n",
       "    <tr>\n",
       "      <th>Patient_1499</th>\n",
       "      <td>77.996389</td>\n",
       "      <td>Venus</td>\n",
       "      <td>75.662184</td>\n",
       "      <td>31.704016</td>\n",
       "    </tr>\n",
       "    <tr>\n",
       "      <th>Patient_1500</th>\n",
       "      <td>94.978406</td>\n",
       "      <td>Venus</td>\n",
       "      <td>35.330030</td>\n",
       "      <td>35.495333</td>\n",
       "    </tr>\n",
       "  </tbody>\n",
       "</table>\n",
       "<p>1500 rows × 4 columns</p>\n",
       "</div>"
      ],
      "text/plain": [
       "              LDL_levels Planet   Exercise  Sugar_consumption\n",
       "Individual                                                   \n",
       "Patient_1     117.084348  Earth  35.225465          33.074228\n",
       "Patient_2     106.295820  Earth  86.118299          35.766400\n",
       "Patient_3     122.064582  Earth  75.440539          30.140532\n",
       "Patient_4     126.171853  Earth  39.336172          30.966869\n",
       "Patient_5     132.882935  Earth  23.614529          39.043881\n",
       "...                  ...    ...        ...                ...\n",
       "Patient_1496   90.586941  Venus  70.696798          25.965687\n",
       "Patient_1497   67.401280  Venus  97.889474          37.641569\n",
       "Patient_1498  120.891409  Venus  20.061231          43.162917\n",
       "Patient_1499   77.996389  Venus  75.662184          31.704016\n",
       "Patient_1500   94.978406  Venus  35.330030          35.495333\n",
       "\n",
       "[1500 rows x 4 columns]"
      ]
     },
     "execution_count": 5,
     "metadata": {},
     "output_type": "execute_result"
    }
   ],
   "source": [
    "# importing pandas\n",
    "import pandas as pd\n",
    "\n",
    "# reading from file\n",
    "df = pd.read_csv('DATA_FSB_SET_3_mod.csv', index_col= 'Individual')\n",
    "\n",
    "# visualizing the data frame\n",
    "df"
   ]
  },
  {
   "cell_type": "markdown",
   "id": "df923c5d-38a6-4d14-8e6e-17c78c16f595",
   "metadata": {},
   "source": [
    "It is now time to explore our data! Is living on Venus leading you to consume more sugar? Let's investigate together!"
   ]
  },
  {
   "cell_type": "markdown",
   "id": "a8ed4a4a-d1c4-44ec-a2c4-b8c6ede6f84d",
   "metadata": {},
   "source": [
    "First things first, let's check the distribution of the numerical variables"
   ]
  },
  {
   "cell_type": "code",
   "execution_count": 6,
   "id": "51cdb87d-53a8-49d3-ae42-fd48552544f8",
   "metadata": {},
   "outputs": [
    {
     "data": {
      "text/html": [
       "<div>\n",
       "<style scoped>\n",
       "    .dataframe tbody tr th:only-of-type {\n",
       "        vertical-align: middle;\n",
       "    }\n",
       "\n",
       "    .dataframe tbody tr th {\n",
       "        vertical-align: top;\n",
       "    }\n",
       "\n",
       "    .dataframe thead th {\n",
       "        text-align: right;\n",
       "    }\n",
       "</style>\n",
       "<table border=\"1\" class=\"dataframe\">\n",
       "  <thead>\n",
       "    <tr style=\"text-align: right;\">\n",
       "      <th></th>\n",
       "      <th>LDL_levels</th>\n",
       "      <th>Exercise</th>\n",
       "      <th>Sugar_consumption</th>\n",
       "    </tr>\n",
       "  </thead>\n",
       "  <tbody>\n",
       "    <tr>\n",
       "      <th>count</th>\n",
       "      <td>1500.000000</td>\n",
       "      <td>1500.000000</td>\n",
       "      <td>1500.000000</td>\n",
       "    </tr>\n",
       "    <tr>\n",
       "      <th>mean</th>\n",
       "      <td>108.594871</td>\n",
       "      <td>61.640489</td>\n",
       "      <td>38.850248</td>\n",
       "    </tr>\n",
       "    <tr>\n",
       "      <th>std</th>\n",
       "      <td>27.150573</td>\n",
       "      <td>33.256294</td>\n",
       "      <td>83.190324</td>\n",
       "    </tr>\n",
       "    <tr>\n",
       "      <th>min</th>\n",
       "      <td>11.552210</td>\n",
       "      <td>-47.847287</td>\n",
       "      <td>-419.896399</td>\n",
       "    </tr>\n",
       "    <tr>\n",
       "      <th>25%</th>\n",
       "      <td>90.019315</td>\n",
       "      <td>38.919025</td>\n",
       "      <td>31.305897</td>\n",
       "    </tr>\n",
       "    <tr>\n",
       "      <th>50%</th>\n",
       "      <td>109.932513</td>\n",
       "      <td>61.397107</td>\n",
       "      <td>35.686035</td>\n",
       "    </tr>\n",
       "    <tr>\n",
       "      <th>75%</th>\n",
       "      <td>126.885959</td>\n",
       "      <td>84.270717</td>\n",
       "      <td>40.028854</td>\n",
       "    </tr>\n",
       "    <tr>\n",
       "      <th>max</th>\n",
       "      <td>191.471347</td>\n",
       "      <td>182.894961</td>\n",
       "      <td>2494.292378</td>\n",
       "    </tr>\n",
       "  </tbody>\n",
       "</table>\n",
       "</div>"
      ],
      "text/plain": [
       "        LDL_levels     Exercise  Sugar_consumption\n",
       "count  1500.000000  1500.000000        1500.000000\n",
       "mean    108.594871    61.640489          38.850248\n",
       "std      27.150573    33.256294          83.190324\n",
       "min      11.552210   -47.847287        -419.896399\n",
       "25%      90.019315    38.919025          31.305897\n",
       "50%     109.932513    61.397107          35.686035\n",
       "75%     126.885959    84.270717          40.028854\n",
       "max     191.471347   182.894961        2494.292378"
      ]
     },
     "execution_count": 6,
     "metadata": {},
     "output_type": "execute_result"
    }
   ],
   "source": [
    "# textual description of the distributions of the continuous variables\n",
    "df.describe()"
   ]
  },
  {
   "cell_type": "markdown",
   "id": "79c07326-4c5b-4646-8378-7331f3970e42",
   "metadata": {},
   "source": [
    "The `describe` method is the first of a long list of functionalities that can be invoked directly from the data frame and that will be applied on each column of the data frame. In the case of `describe`, the method is applied on each numerical variable and provide statistics characterizing their respective distributions. These statistics include averages, standard deviations, min and max values, as well as different percentiles.\n",
    "\n",
    "Can we have a more graphical representation?"
   ]
  },
  {
   "cell_type": "code",
   "execution_count": 7,
   "id": "43676594-a5a4-4619-836e-b39769a4f93c",
   "metadata": {},
   "outputs": [
    {
     "data": {
      "text/plain": [
       "<AxesSubplot:>"
      ]
     },
     "execution_count": 7,
     "metadata": {},
     "output_type": "execute_result"
    },
    {
     "data": {
      "image/png": "[encoded data removed]",
      "text/plain": [
       "<Figure size 640x480 with 1 Axes>"
      ]
     },
     "metadata": {},
     "output_type": "display_data"
    }
   ],
   "source": [
    "# boxplots of continuous variables distributions\n",
    "df.boxplot()"
   ]
  },
  {
   "cell_type": "markdown",
   "id": "2d3d21c0-a668-488c-892e-17ce8d561f50",
   "metadata": {},
   "source": [
    "The plot represents the distribution of the numerical values as boxplots. Notably, the boolean variable `High_LDL_levels` is included as well. If you prefer to only keep the numerical variables, you can specify the columns to plot:"
   ]
  },
  {
   "cell_type": "code",
   "execution_count": 8,
   "id": "e68ab9b0-2855-48d4-ae76-2a623409ec50",
   "metadata": {},
   "outputs": [
    {
     "data": {
      "text/plain": [
       "<AxesSubplot:>"
      ]
     },
     "execution_count": 8,
     "metadata": {},
     "output_type": "execute_result"
    },
    {
     "data": {
      "image/png": "[encoded data removed]",
      "text/plain": [
       "<Figure size 640x480 with 1 Axes>"
      ]
     },
     "metadata": {},
     "output_type": "display_data"
    }
   ],
   "source": [
    "# boxplots only for selected variables\n",
    "df.boxplot(column = ['LDL_levels', 'Exercise', 'Sugar_consumption'])"
   ]
  },
  {
   "cell_type": "markdown",
   "id": "54883df2-9e12-4806-8e51-f1f1c473cba5",
   "metadata": {},
   "source": [
    "We immediately notice that both the `Exercise` and `Sugar_consumption` variables recorded negative value, however this should not theoretically possible. This means that those values are probably typos, and should be set to NaN.\n",
    "\n",
    "NaN values are not defined in pandas, but they are defined in NumPy. Data frame columns are actually implemented upon NumPy arrays, so we can safely use NumPy NaN values inside pandas data frames:"
   ]
  },
  {
   "cell_type": "code",
   "execution_count": 9,
   "id": "abcf879f-8873-423d-8291-c21c300f08ba",
   "metadata": {},
   "outputs": [
    {
     "data": {
      "text/plain": [
       "<AxesSubplot:>"
      ]
     },
     "execution_count": 9,
     "metadata": {},
     "output_type": "execute_result"
    },
    {
     "data": {
      "image/png": "[encoded data removed]",
      "text/plain": [
       "<Figure size 640x480 with 1 Axes>"
      ]
     },
     "metadata": {},
     "output_type": "display_data"
    }
   ],
   "source": [
    "# import NumPy\n",
    "import numpy as np\n",
    "\n",
    "# replacing negative values with NaN\n",
    "df.loc[df.Exercise < 0, 'Exercise'] = np.NaN\n",
    "df.loc[df.Sugar_consumption < 0, 'Sugar_consumption'] = np.NaN\n",
    "\n",
    "# visualizing boxplots again\n",
    "df.boxplot(column = ['LDL_levels', 'Exercise', 'Sugar_consumption'])"
   ]
  },
  {
   "cell_type": "markdown",
   "id": "7487071e-8905-4ee5-b9dc-40b57247e15a",
   "metadata": {},
   "source": [
    "All distributions seem now in reasonable ranges. However, you may want to know how many missing values you have inserted:"
   ]
  },
  {
   "cell_type": "code",
   "execution_count": 10,
   "id": "1e95d638-b530-4ed9-bc5d-ef46b84b37df",
   "metadata": {},
   "outputs": [
    {
     "data": {
      "text/plain": [
       "LDL_levels            0\n",
       "Planet                0\n",
       "Exercise             46\n",
       "Sugar_consumption    20\n",
       "dtype: int64"
      ]
     },
     "execution_count": 10,
     "metadata": {},
     "output_type": "execute_result"
    }
   ],
   "source": [
    "# counting missing values\n",
    "df.isna().sum()"
   ]
  },
  {
   "cell_type": "markdown",
   "id": "5604f77e-0b9c-4407-acb3-e3f18a606767",
   "metadata": {},
   "source": [
    "Let's dissect the last expression. The `df.isna()` part produces a new data frame with as many cells as the original one. Each cell has value `True` if the original cell contains a missing value, and `False` otherwise. The `.sum()` part sum all values across each column, in our case producing the number of missing values for each column.\n",
    "\n",
    "We now want to replace these missing values with some other suitable value. A common choice is using the average value of each column for replacing the missing values in the column itself. The pandas package provides the `fillna` function, which takes one value for each column, and uses this value for replacing the missing values.\n",
    "\n",
    "Since we have missing values only in the numerical variables, we will focus on them. Let's start by computing the average values"
   ]
  },
  {
   "cell_type": "code",
   "execution_count": 11,
   "id": "e273a95c-4160-4701-ba37-e713bbcc87bc",
   "metadata": {},
   "outputs": [
    {
     "data": {
      "text/html": [
       "<div>\n",
       "<style scoped>\n",
       "    .dataframe tbody tr th:only-of-type {\n",
       "        vertical-align: middle;\n",
       "    }\n",
       "\n",
       "    .dataframe tbody tr th {\n",
       "        vertical-align: top;\n",
       "    }\n",
       "\n",
       "    .dataframe thead th {\n",
       "        text-align: right;\n",
       "    }\n",
       "</style>\n",
       "<table border=\"1\" class=\"dataframe\">\n",
       "  <thead>\n",
       "    <tr style=\"text-align: right;\">\n",
       "      <th></th>\n",
       "      <th>LDL_levels</th>\n",
       "      <th>Exercise</th>\n",
       "      <th>Sugar_consumption</th>\n",
       "    </tr>\n",
       "    <tr>\n",
       "      <th>Individual</th>\n",
       "      <th></th>\n",
       "      <th></th>\n",
       "      <th></th>\n",
       "    </tr>\n",
       "  </thead>\n",
       "  <tbody>\n",
       "    <tr>\n",
       "      <th>Patient_1</th>\n",
       "      <td>117.084348</td>\n",
       "      <td>35.225465</td>\n",
       "      <td>33.074228</td>\n",
       "    </tr>\n",
       "    <tr>\n",
       "      <th>Patient_2</th>\n",
       "      <td>106.295820</td>\n",
       "      <td>86.118299</td>\n",
       "      <td>35.766400</td>\n",
       "    </tr>\n",
       "    <tr>\n",
       "      <th>Patient_3</th>\n",
       "      <td>122.064582</td>\n",
       "      <td>75.440539</td>\n",
       "      <td>30.140532</td>\n",
       "    </tr>\n",
       "    <tr>\n",
       "      <th>Patient_4</th>\n",
       "      <td>126.171853</td>\n",
       "      <td>39.336172</td>\n",
       "      <td>30.966869</td>\n",
       "    </tr>\n",
       "    <tr>\n",
       "      <th>Patient_5</th>\n",
       "      <td>132.882935</td>\n",
       "      <td>23.614529</td>\n",
       "      <td>39.043881</td>\n",
       "    </tr>\n",
       "    <tr>\n",
       "      <th>...</th>\n",
       "      <td>...</td>\n",
       "      <td>...</td>\n",
       "      <td>...</td>\n",
       "    </tr>\n",
       "    <tr>\n",
       "      <th>Patient_1496</th>\n",
       "      <td>90.586941</td>\n",
       "      <td>70.696798</td>\n",
       "      <td>25.965687</td>\n",
       "    </tr>\n",
       "    <tr>\n",
       "      <th>Patient_1497</th>\n",
       "      <td>67.401280</td>\n",
       "      <td>97.889474</td>\n",
       "      <td>37.641569</td>\n",
       "    </tr>\n",
       "    <tr>\n",
       "      <th>Patient_1498</th>\n",
       "      <td>120.891409</td>\n",
       "      <td>20.061231</td>\n",
       "      <td>43.162917</td>\n",
       "    </tr>\n",
       "    <tr>\n",
       "      <th>Patient_1499</th>\n",
       "      <td>77.996389</td>\n",
       "      <td>75.662184</td>\n",
       "      <td>31.704016</td>\n",
       "    </tr>\n",
       "    <tr>\n",
       "      <th>Patient_1500</th>\n",
       "      <td>94.978406</td>\n",
       "      <td>35.330030</td>\n",
       "      <td>35.495333</td>\n",
       "    </tr>\n",
       "  </tbody>\n",
       "</table>\n",
       "<p>1500 rows × 3 columns</p>\n",
       "</div>"
      ],
      "text/plain": [
       "              LDL_levels   Exercise  Sugar_consumption\n",
       "Individual                                            \n",
       "Patient_1     117.084348  35.225465          33.074228\n",
       "Patient_2     106.295820  86.118299          35.766400\n",
       "Patient_3     122.064582  75.440539          30.140532\n",
       "Patient_4     126.171853  39.336172          30.966869\n",
       "Patient_5     132.882935  23.614529          39.043881\n",
       "...                  ...        ...                ...\n",
       "Patient_1496   90.586941  70.696798          25.965687\n",
       "Patient_1497   67.401280  97.889474          37.641569\n",
       "Patient_1498  120.891409  20.061231          43.162917\n",
       "Patient_1499   77.996389  75.662184          31.704016\n",
       "Patient_1500   94.978406  35.330030          35.495333\n",
       "\n",
       "[1500 rows x 3 columns]"
      ]
     },
     "execution_count": 11,
     "metadata": {},
     "output_type": "execute_result"
    }
   ],
   "source": [
    "# selecting only numerical variables\n",
    "tmp_df = df.select_dtypes(include = 'number')\n",
    "tmp_df"
   ]
  },
  {
   "cell_type": "code",
   "execution_count": 12,
   "id": "34a9cd67-2d5d-4979-b7c4-7b0d25579ef6",
   "metadata": {},
   "outputs": [
    {
     "data": {
      "text/plain": [
       "LDL_levels           108.594871\n",
       "Exercise              63.988912\n",
       "Sugar_consumption     41.074515\n",
       "dtype: float64"
      ]
     },
     "execution_count": 12,
     "metadata": {},
     "output_type": "execute_result"
    }
   ],
   "source": [
    "# computing average values only for the numerical variables\n",
    "averages = tmp_df.mean()\n",
    "averages"
   ]
  },
  {
   "cell_type": "markdown",
   "id": "a8bc0d28-8ca2-4b49-90ac-ef7c03b4294f",
   "metadata": {},
   "source": [
    "We would now like to explore the composition of the categorical variables as well, meaning `Planet` and `High_LDL_levels`"
   ]
  },
  {
   "cell_type": "code",
   "execution_count": 15,
   "id": "d67eee05-6638-472e-b987-b429bbaf41b5",
   "metadata": {},
   "outputs": [
    {
     "data": {
      "text/plain": [
       "Earth    781\n",
       "Venus    719\n",
       "Name: Planet, dtype: int64"
      ]
     },
     "execution_count": 15,
     "metadata": {},
     "output_type": "execute_result"
    }
   ],
   "source": [
    "# distribution of values in the Planet variable \n",
    "df.Planet.value_counts()"
   ]
  },
  {
   "cell_type": "code",
   "execution_count": 16,
   "id": "b82a163c-b240-4baa-a9c9-8034ff01ce05",
   "metadata": {},
   "outputs": [
    {
     "data": {
      "text/plain": [
       "False    1002\n",
       "True      498\n",
       "Name: High_LDL_levels, dtype: int64"
      ]
     },
     "execution_count": 16,
     "metadata": {},
     "output_type": "execute_result"
    }
   ],
   "source": [
    "# generating the new column again\n",
    "high_LDL = df['LDL_levels'] > 120\n",
    "\n",
    "df['High_LDL_levels'] = high_LDL\n",
    "\n",
    "# distribution of values in the High_LDL_levels variable \n",
    "df.High_LDL_levels.value_counts()"
   ]
  },
  {
   "cell_type": "code",
   "execution_count": 17,
   "id": "29b64bf8-02b3-4783-b8a6-7a398ba979cc",
   "metadata": {},
   "outputs": [
    {
     "data": {
      "text/html": [
       "<div>\n",
       "<style scoped>\n",
       "    .dataframe tbody tr th:only-of-type {\n",
       "        vertical-align: middle;\n",
       "    }\n",
       "\n",
       "    .dataframe tbody tr th {\n",
       "        vertical-align: top;\n",
       "    }\n",
       "\n",
       "    .dataframe thead th {\n",
       "        text-align: right;\n",
       "    }\n",
       "</style>\n",
       "<table border=\"1\" class=\"dataframe\">\n",
       "  <thead>\n",
       "    <tr style=\"text-align: right;\">\n",
       "      <th>High_LDL_levels</th>\n",
       "      <th>False</th>\n",
       "      <th>True</th>\n",
       "    </tr>\n",
       "    <tr>\n",
       "      <th>Planet</th>\n",
       "      <th></th>\n",
       "      <th></th>\n",
       "    </tr>\n",
       "  </thead>\n",
       "  <tbody>\n",
       "    <tr>\n",
       "      <th>Earth</th>\n",
       "      <td>416</td>\n",
       "      <td>365</td>\n",
       "    </tr>\n",
       "    <tr>\n",
       "      <th>Venus</th>\n",
       "      <td>586</td>\n",
       "      <td>133</td>\n",
       "    </tr>\n",
       "  </tbody>\n",
       "</table>\n",
       "</div>"
      ],
      "text/plain": [
       "High_LDL_levels  False  True \n",
       "Planet                       \n",
       "Earth              416    365\n",
       "Venus              586    133"
      ]
     },
     "execution_count": 17,
     "metadata": {},
     "output_type": "execute_result"
    }
   ],
   "source": [
    "# joint distribution between Planet and High_LDL_levels\n",
    "pd.crosstab(df.Planet, df.High_LDL_levels)"
   ]
  },
  {
   "cell_type": "markdown",
   "id": "dda45943-4bf4-4183-bb06-87a44531479f",
   "metadata": {},
   "source": [
    "As we can see, we have quite a large number of subject in each category, so we can safely compute statistics separately by category.\n",
    "\n",
    "We can start by assessing if there is any difference in sugar consumption according to planet!"
   ]
  },
  {
   "cell_type": "code",
   "execution_count": 18,
   "id": "2e4ae5dc-6142-469f-86f1-12550eaa7222",
   "metadata": {},
   "outputs": [
    {
     "data": {
      "text/html": [
       "<div>\n",
       "<style scoped>\n",
       "    .dataframe tbody tr th:only-of-type {\n",
       "        vertical-align: middle;\n",
       "    }\n",
       "\n",
       "    .dataframe tbody tr th {\n",
       "        vertical-align: top;\n",
       "    }\n",
       "\n",
       "    .dataframe thead th {\n",
       "        text-align: right;\n",
       "    }\n",
       "</style>\n",
       "<table border=\"1\" class=\"dataframe\">\n",
       "  <thead>\n",
       "    <tr style=\"text-align: right;\">\n",
       "      <th></th>\n",
       "      <th>count</th>\n",
       "      <th>mean</th>\n",
       "      <th>std</th>\n",
       "      <th>min</th>\n",
       "      <th>25%</th>\n",
       "      <th>50%</th>\n",
       "      <th>75%</th>\n",
       "      <th>max</th>\n",
       "    </tr>\n",
       "    <tr>\n",
       "      <th>Planet</th>\n",
       "      <th></th>\n",
       "      <th></th>\n",
       "      <th></th>\n",
       "      <th></th>\n",
       "      <th></th>\n",
       "      <th></th>\n",
       "      <th></th>\n",
       "      <th></th>\n",
       "    </tr>\n",
       "  </thead>\n",
       "  <tbody>\n",
       "    <tr>\n",
       "      <th>Earth</th>\n",
       "      <td>769.0</td>\n",
       "      <td>41.653984</td>\n",
       "      <td>63.568513</td>\n",
       "      <td>0.949583</td>\n",
       "      <td>32.240145</td>\n",
       "      <td>36.694328</td>\n",
       "      <td>41.344855</td>\n",
       "      <td>1679.358706</td>\n",
       "    </tr>\n",
       "    <tr>\n",
       "      <th>Venus</th>\n",
       "      <td>711.0</td>\n",
       "      <td>40.447775</td>\n",
       "      <td>95.235867</td>\n",
       "      <td>0.833190</td>\n",
       "      <td>31.095308</td>\n",
       "      <td>35.015700</td>\n",
       "      <td>39.147754</td>\n",
       "      <td>2494.292378</td>\n",
       "    </tr>\n",
       "  </tbody>\n",
       "</table>\n",
       "</div>"
      ],
      "text/plain": [
       "        count       mean        std       min        25%        50%  \\\n",
       "Planet                                                                \n",
       "Earth   769.0  41.653984  63.568513  0.949583  32.240145  36.694328   \n",
       "Venus   711.0  40.447775  95.235867  0.833190  31.095308  35.015700   \n",
       "\n",
       "              75%          max  \n",
       "Planet                          \n",
       "Earth   41.344855  1679.358706  \n",
       "Venus   39.147754  2494.292378  "
      ]
     },
     "execution_count": 18,
     "metadata": {},
     "output_type": "execute_result"
    }
   ],
   "source": [
    "# statistics on sugar consumption by planet\n",
    "df.groupby('Planet').Sugar_consumption.describe()"
   ]
  },
  {
   "cell_type": "markdown",
   "id": "bbb4d3e1-0f7e-4be0-84da-12aae285190d",
   "metadata": {},
   "source": [
    "Important: the `groupby` method allows to produce results subdivided for the values of a specific categorical variables. In this case we selected the `Planet` variable, and we have separate results for subjects that have performed their exercises on Earth and Venus! This is a very powerful functionality when you want to explore in detaul your data.\n",
    "\n",
    "Anyway, no difference is evident at a first glance, so let's try with a boxplot. We can see again how useful the `groupby` method is:"
   ]
  },
  {
   "cell_type": "code",
   "execution_count": 19,
   "id": "7bd1e05c-68a5-488f-9c89-0b38b3ce52f3",
   "metadata": {},
   "outputs": [
    {
     "data": {
      "text/plain": [
       "Earth         AxesSubplot(0.1,0.15;0.363636x0.75)\n",
       "Venus    AxesSubplot(0.536364,0.15;0.363636x0.75)\n",
       "dtype: object"
      ]
     },
     "execution_count": 19,
     "metadata": {},
     "output_type": "execute_result"
    },
    {
     "data": {
      "image/png": "[encoded data removed]",
      "text/plain": [
       "<Figure size 640x480 with 2 Axes>"
      ]
     },
     "metadata": {},
     "output_type": "display_data"
    }
   ],
   "source": [
    "df.groupby('Planet').boxplot(column = 'Sugar_consumption')"
   ]
  },
  {
   "cell_type": "markdown",
   "id": "a2f33697-1a31-4f32-a802-6bd010209799",
   "metadata": {},
   "source": [
    "The boxplot seems to confirm that there is not difference in how much sugar is consumed, regardless on whether you live on Venus or Earth. Good to know for the future generations that will colonize our celestial neighbour! "
   ]
  },
  {
   "cell_type": "markdown",
   "id": "7bde4af6-3c45-4939-a0e9-efa73431fb09",
   "metadata": {},
   "source": [
    "***"
   ]
  },
  {
   "cell_type": "markdown",
   "id": "55c092da-e0a8-4040-9ef7-3f83579e58f4",
   "metadata": {},
   "source": [
    "In this lesson we have seen how to use a number of methods that allow to explore pandas data frames. Many more methods are available for even more complex analyis: the [official documentation](https://pandas.pydata.org/docs/) is the ideal starting point for learning more on this exciting topic. "
   ]
  },
  {
   "cell_type": "code",
   "execution_count": null,
   "id": "825c5e59-3bd7-46e8-bf26-c5c07cfc148d",
   "metadata": {},
   "outputs": [],
   "source": []
  }
 ],
 "metadata": {
  "kernelspec": {
   "display_name": "Python 3 (ipykernel)",
   "language": "python",
   "name": "python3"
  },
  "language_info": {
   "codemirror_mode": {
    "name": "ipython",
    "version": 3
   },
   "file_extension": ".py",
   "mimetype": "text/x-python",
   "name": "python",
   "nbconvert_exporter": "python",
   "pygments_lexer": "ipython3",
   "version": "3.10.15"
  }
 },
 "nbformat": 4,
 "nbformat_minor": 5
}
